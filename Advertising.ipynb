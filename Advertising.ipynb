{
 "cells": [
  {
   "cell_type": "code",
   "execution_count": 1,
   "id": "tender-position",
   "metadata": {},
   "outputs": [],
   "source": [
    "import numpy as np\n",
    "import pandas as pd\n",
    "import seaborn as sb\n",
    "import matplotlib.pyplot as plt\n",
    "import warnings\n",
    "warnings.filterwarnings('ignore')"
   ]
  },
  {
   "cell_type": "code",
   "execution_count": 2,
   "id": "opposed-investing",
   "metadata": {},
   "outputs": [
    {
     "data": {
      "text/html": [
       "<div>\n",
       "<style scoped>\n",
       "    .dataframe tbody tr th:only-of-type {\n",
       "        vertical-align: middle;\n",
       "    }\n",
       "\n",
       "    .dataframe tbody tr th {\n",
       "        vertical-align: top;\n",
       "    }\n",
       "\n",
       "    .dataframe thead th {\n",
       "        text-align: right;\n",
       "    }\n",
       "</style>\n",
       "<table border=\"1\" class=\"dataframe\">\n",
       "  <thead>\n",
       "    <tr style=\"text-align: right;\">\n",
       "      <th></th>\n",
       "      <th>Index</th>\n",
       "      <th>TV</th>\n",
       "      <th>radio</th>\n",
       "      <th>newspaper</th>\n",
       "      <th>sales</th>\n",
       "    </tr>\n",
       "  </thead>\n",
       "  <tbody>\n",
       "    <tr>\n",
       "      <th>0</th>\n",
       "      <td>1</td>\n",
       "      <td>230.1</td>\n",
       "      <td>37.8</td>\n",
       "      <td>69.2</td>\n",
       "      <td>22.1</td>\n",
       "    </tr>\n",
       "    <tr>\n",
       "      <th>1</th>\n",
       "      <td>2</td>\n",
       "      <td>44.5</td>\n",
       "      <td>39.3</td>\n",
       "      <td>45.1</td>\n",
       "      <td>10.4</td>\n",
       "    </tr>\n",
       "    <tr>\n",
       "      <th>2</th>\n",
       "      <td>3</td>\n",
       "      <td>17.2</td>\n",
       "      <td>45.9</td>\n",
       "      <td>69.3</td>\n",
       "      <td>9.3</td>\n",
       "    </tr>\n",
       "    <tr>\n",
       "      <th>3</th>\n",
       "      <td>4</td>\n",
       "      <td>151.5</td>\n",
       "      <td>41.3</td>\n",
       "      <td>58.5</td>\n",
       "      <td>18.5</td>\n",
       "    </tr>\n",
       "    <tr>\n",
       "      <th>4</th>\n",
       "      <td>5</td>\n",
       "      <td>180.8</td>\n",
       "      <td>10.8</td>\n",
       "      <td>58.4</td>\n",
       "      <td>12.9</td>\n",
       "    </tr>\n",
       "  </tbody>\n",
       "</table>\n",
       "</div>"
      ],
      "text/plain": [
       "   Index     TV  radio  newspaper  sales\n",
       "0      1  230.1   37.8       69.2   22.1\n",
       "1      2   44.5   39.3       45.1   10.4\n",
       "2      3   17.2   45.9       69.3    9.3\n",
       "3      4  151.5   41.3       58.5   18.5\n",
       "4      5  180.8   10.8       58.4   12.9"
      ]
     },
     "execution_count": 2,
     "metadata": {},
     "output_type": "execute_result"
    }
   ],
   "source": [
    "df = pd.read_csv('Advertising.csv')\n",
    "df.head()"
   ]
  },
  {
   "cell_type": "code",
   "execution_count": 3,
   "id": "complicated-mississippi",
   "metadata": {},
   "outputs": [
    {
     "data": {
      "text/html": [
       "<div>\n",
       "<style scoped>\n",
       "    .dataframe tbody tr th:only-of-type {\n",
       "        vertical-align: middle;\n",
       "    }\n",
       "\n",
       "    .dataframe tbody tr th {\n",
       "        vertical-align: top;\n",
       "    }\n",
       "\n",
       "    .dataframe thead th {\n",
       "        text-align: right;\n",
       "    }\n",
       "</style>\n",
       "<table border=\"1\" class=\"dataframe\">\n",
       "  <thead>\n",
       "    <tr style=\"text-align: right;\">\n",
       "      <th></th>\n",
       "      <th>TV</th>\n",
       "      <th>radio</th>\n",
       "      <th>newspaper</th>\n",
       "      <th>sales</th>\n",
       "    </tr>\n",
       "    <tr>\n",
       "      <th>Index</th>\n",
       "      <th></th>\n",
       "      <th></th>\n",
       "      <th></th>\n",
       "      <th></th>\n",
       "    </tr>\n",
       "  </thead>\n",
       "  <tbody>\n",
       "    <tr>\n",
       "      <th>1</th>\n",
       "      <td>230.1</td>\n",
       "      <td>37.8</td>\n",
       "      <td>69.2</td>\n",
       "      <td>22.1</td>\n",
       "    </tr>\n",
       "    <tr>\n",
       "      <th>2</th>\n",
       "      <td>44.5</td>\n",
       "      <td>39.3</td>\n",
       "      <td>45.1</td>\n",
       "      <td>10.4</td>\n",
       "    </tr>\n",
       "    <tr>\n",
       "      <th>3</th>\n",
       "      <td>17.2</td>\n",
       "      <td>45.9</td>\n",
       "      <td>69.3</td>\n",
       "      <td>9.3</td>\n",
       "    </tr>\n",
       "    <tr>\n",
       "      <th>4</th>\n",
       "      <td>151.5</td>\n",
       "      <td>41.3</td>\n",
       "      <td>58.5</td>\n",
       "      <td>18.5</td>\n",
       "    </tr>\n",
       "    <tr>\n",
       "      <th>5</th>\n",
       "      <td>180.8</td>\n",
       "      <td>10.8</td>\n",
       "      <td>58.4</td>\n",
       "      <td>12.9</td>\n",
       "    </tr>\n",
       "    <tr>\n",
       "      <th>...</th>\n",
       "      <td>...</td>\n",
       "      <td>...</td>\n",
       "      <td>...</td>\n",
       "      <td>...</td>\n",
       "    </tr>\n",
       "    <tr>\n",
       "      <th>196</th>\n",
       "      <td>38.2</td>\n",
       "      <td>3.7</td>\n",
       "      <td>13.8</td>\n",
       "      <td>7.6</td>\n",
       "    </tr>\n",
       "    <tr>\n",
       "      <th>197</th>\n",
       "      <td>94.2</td>\n",
       "      <td>4.9</td>\n",
       "      <td>8.1</td>\n",
       "      <td>9.7</td>\n",
       "    </tr>\n",
       "    <tr>\n",
       "      <th>198</th>\n",
       "      <td>177.0</td>\n",
       "      <td>9.3</td>\n",
       "      <td>6.4</td>\n",
       "      <td>12.8</td>\n",
       "    </tr>\n",
       "    <tr>\n",
       "      <th>199</th>\n",
       "      <td>283.6</td>\n",
       "      <td>42.0</td>\n",
       "      <td>66.2</td>\n",
       "      <td>25.5</td>\n",
       "    </tr>\n",
       "    <tr>\n",
       "      <th>200</th>\n",
       "      <td>232.1</td>\n",
       "      <td>8.6</td>\n",
       "      <td>8.7</td>\n",
       "      <td>13.4</td>\n",
       "    </tr>\n",
       "  </tbody>\n",
       "</table>\n",
       "<p>200 rows × 4 columns</p>\n",
       "</div>"
      ],
      "text/plain": [
       "          TV  radio  newspaper  sales\n",
       "Index                                \n",
       "1      230.1   37.8       69.2   22.1\n",
       "2       44.5   39.3       45.1   10.4\n",
       "3       17.2   45.9       69.3    9.3\n",
       "4      151.5   41.3       58.5   18.5\n",
       "5      180.8   10.8       58.4   12.9\n",
       "...      ...    ...        ...    ...\n",
       "196     38.2    3.7       13.8    7.6\n",
       "197     94.2    4.9        8.1    9.7\n",
       "198    177.0    9.3        6.4   12.8\n",
       "199    283.6   42.0       66.2   25.5\n",
       "200    232.1    8.6        8.7   13.4\n",
       "\n",
       "[200 rows x 4 columns]"
      ]
     },
     "execution_count": 3,
     "metadata": {},
     "output_type": "execute_result"
    }
   ],
   "source": [
    "df.set_index(['Index'])"
   ]
  },
  {
   "cell_type": "code",
   "execution_count": 4,
   "id": "consistent-thomson",
   "metadata": {
    "scrolled": true
   },
   "outputs": [
    {
     "data": {
      "text/plain": [
       "Index          int64\n",
       "TV           float64\n",
       "radio        float64\n",
       "newspaper    float64\n",
       "sales        float64\n",
       "dtype: object"
      ]
     },
     "execution_count": 4,
     "metadata": {},
     "output_type": "execute_result"
    }
   ],
   "source": [
    "df.dtypes"
   ]
  },
  {
   "cell_type": "markdown",
   "id": "least-relationship",
   "metadata": {},
   "source": [
    "All values are float"
   ]
  },
  {
   "cell_type": "code",
   "execution_count": 5,
   "id": "powerful-edition",
   "metadata": {},
   "outputs": [
    {
     "data": {
      "text/plain": [
       "(200, 5)"
      ]
     },
     "execution_count": 5,
     "metadata": {},
     "output_type": "execute_result"
    }
   ],
   "source": [
    "df.shape"
   ]
  },
  {
   "cell_type": "code",
   "execution_count": 6,
   "id": "administrative-hygiene",
   "metadata": {},
   "outputs": [
    {
     "data": {
      "text/plain": [
       "Index        0\n",
       "TV           0\n",
       "radio        0\n",
       "newspaper    0\n",
       "sales        0\n",
       "dtype: int64"
      ]
     },
     "execution_count": 6,
     "metadata": {},
     "output_type": "execute_result"
    }
   ],
   "source": [
    "df.isnull().sum()"
   ]
  },
  {
   "cell_type": "markdown",
   "id": "raised-present",
   "metadata": {},
   "source": [
    "There are no null values"
   ]
  },
  {
   "cell_type": "code",
   "execution_count": 7,
   "id": "dedicated-white",
   "metadata": {},
   "outputs": [
    {
     "data": {
      "text/plain": [
       "Index        200\n",
       "TV           190\n",
       "radio        167\n",
       "newspaper    172\n",
       "sales        121\n",
       "dtype: int64"
      ]
     },
     "execution_count": 7,
     "metadata": {},
     "output_type": "execute_result"
    }
   ],
   "source": [
    "df.nunique()"
   ]
  },
  {
   "cell_type": "code",
   "execution_count": 8,
   "id": "loose-landing",
   "metadata": {
    "scrolled": true
   },
   "outputs": [
    {
     "data": {
      "text/plain": [
       "Index(['Index', 'TV', 'radio', 'newspaper', 'sales'], dtype='object')"
      ]
     },
     "execution_count": 8,
     "metadata": {},
     "output_type": "execute_result"
    }
   ],
   "source": [
    "df.columns"
   ]
  },
  {
   "cell_type": "code",
   "execution_count": 9,
   "id": "oriental-medicine",
   "metadata": {
    "scrolled": false
   },
   "outputs": [
    {
     "data": {
      "image/png": "[encoded data removed]",
      "text/plain": [
       "<Figure size 432x288 with 1 Axes>"
      ]
     },
     "metadata": {
      "needs_background": "light"
     },
     "output_type": "display_data"
    },
    {
     "data": {
      "image/png": "[encoded data removed]",
      "text/plain": [
       "<Figure size 432x288 with 1 Axes>"
      ]
     },
     "metadata": {
      "needs_background": "light"
     },
     "output_type": "display_data"
    },
    {
     "data": {
      "image/png": "[encoded data removed]",
      "text/plain": [
       "<Figure size 432x288 with 1 Axes>"
      ]
     },
     "metadata": {
      "needs_background": "light"
     },
     "output_type": "display_data"
    }
   ],
   "source": [
    "col = ['TV', 'radio', 'newspaper']\n",
    "for i in col:\n",
    "    ax = sb.swarmplot(x = i, data = df)\n",
    "    plt.show()"
   ]
  },
  {
   "cell_type": "markdown",
   "id": "automotive-colombia",
   "metadata": {},
   "source": [
    "We can see that all the variables are uniformly distributed except for a small number of outliers in newspaper column. "
   ]
  },
  {
   "cell_type": "code",
   "execution_count": 10,
   "id": "instructional-collection",
   "metadata": {},
   "outputs": [
    {
     "data": {
      "image/png": "[encoded data removed]",
      "text/plain": [
       "<Figure size 432x288 with 1 Axes>"
      ]
     },
     "metadata": {
      "needs_background": "light"
     },
     "output_type": "display_data"
    },
    {
     "data": {
      "image/png": "[encoded data removed]",
      "text/plain": [
       "<Figure size 432x288 with 1 Axes>"
      ]
     },
     "metadata": {
      "needs_background": "light"
     },
     "output_type": "display_data"
    },
    {
     "data": {
      "image/png": "[encoded data removed]",
      "text/plain": [
       "<Figure size 432x288 with 1 Axes>"
      ]
     },
     "metadata": {
      "needs_background": "light"
     },
     "output_type": "display_data"
    }
   ],
   "source": [
    "#Plotting distplot to check for skewness.\n",
    "for i in col: \n",
    "    sb.distplot(df[i], kde = True)\n",
    "    plt.show()"
   ]
  },
  {
   "cell_type": "markdown",
   "id": "tutorial-father",
   "metadata": {},
   "source": [
    "The newspaper column seems to be slightly skewed. "
   ]
  },
  {
   "cell_type": "code",
   "execution_count": 11,
   "id": "fresh-photography",
   "metadata": {
    "scrolled": true
   },
   "outputs": [
    {
     "data": {
      "text/plain": [
       "Index        0.000000\n",
       "TV          -0.069853\n",
       "radio        0.094175\n",
       "newspaper    0.894720\n",
       "sales        0.407571\n",
       "dtype: float64"
      ]
     },
     "execution_count": 11,
     "metadata": {},
     "output_type": "execute_result"
    }
   ],
   "source": [
    "df.skew()"
   ]
  },
  {
   "cell_type": "markdown",
   "id": "behavioral-vertex",
   "metadata": {},
   "source": [
    " +/- 0.5 being the limitk for data with no skewness, we can see that there is a slight skewness in the Newspaper column. \n",
    "    \n",
    "We can ignore the sales column as it's the Y variable. "
   ]
  },
  {
   "cell_type": "markdown",
   "id": "formed-progress",
   "metadata": {},
   "source": [
    "### Describing the Dataset"
   ]
  },
  {
   "cell_type": "code",
   "execution_count": 12,
   "id": "future-collect",
   "metadata": {},
   "outputs": [
    {
     "data": {
      "text/html": [
       "<div>\n",
       "<style scoped>\n",
       "    .dataframe tbody tr th:only-of-type {\n",
       "        vertical-align: middle;\n",
       "    }\n",
       "\n",
       "    .dataframe tbody tr th {\n",
       "        vertical-align: top;\n",
       "    }\n",
       "\n",
       "    .dataframe thead th {\n",
       "        text-align: right;\n",
       "    }\n",
       "</style>\n",
       "<table border=\"1\" class=\"dataframe\">\n",
       "  <thead>\n",
       "    <tr style=\"text-align: right;\">\n",
       "      <th></th>\n",
       "      <th>Index</th>\n",
       "      <th>TV</th>\n",
       "      <th>radio</th>\n",
       "      <th>newspaper</th>\n",
       "      <th>sales</th>\n",
       "    </tr>\n",
       "  </thead>\n",
       "  <tbody>\n",
       "    <tr>\n",
       "      <th>count</th>\n",
       "      <td>200.000000</td>\n",
       "      <td>200.000000</td>\n",
       "      <td>200.000000</td>\n",
       "      <td>200.000000</td>\n",
       "      <td>200.000000</td>\n",
       "    </tr>\n",
       "    <tr>\n",
       "      <th>mean</th>\n",
       "      <td>100.500000</td>\n",
       "      <td>147.042500</td>\n",
       "      <td>23.264000</td>\n",
       "      <td>30.554000</td>\n",
       "      <td>14.022500</td>\n",
       "    </tr>\n",
       "    <tr>\n",
       "      <th>std</th>\n",
       "      <td>57.879185</td>\n",
       "      <td>85.854236</td>\n",
       "      <td>14.846809</td>\n",
       "      <td>21.778621</td>\n",
       "      <td>5.217457</td>\n",
       "    </tr>\n",
       "    <tr>\n",
       "      <th>min</th>\n",
       "      <td>1.000000</td>\n",
       "      <td>0.700000</td>\n",
       "      <td>0.000000</td>\n",
       "      <td>0.300000</td>\n",
       "      <td>1.600000</td>\n",
       "    </tr>\n",
       "    <tr>\n",
       "      <th>25%</th>\n",
       "      <td>50.750000</td>\n",
       "      <td>74.375000</td>\n",
       "      <td>9.975000</td>\n",
       "      <td>12.750000</td>\n",
       "      <td>10.375000</td>\n",
       "    </tr>\n",
       "    <tr>\n",
       "      <th>50%</th>\n",
       "      <td>100.500000</td>\n",
       "      <td>149.750000</td>\n",
       "      <td>22.900000</td>\n",
       "      <td>25.750000</td>\n",
       "      <td>12.900000</td>\n",
       "    </tr>\n",
       "    <tr>\n",
       "      <th>75%</th>\n",
       "      <td>150.250000</td>\n",
       "      <td>218.825000</td>\n",
       "      <td>36.525000</td>\n",
       "      <td>45.100000</td>\n",
       "      <td>17.400000</td>\n",
       "    </tr>\n",
       "    <tr>\n",
       "      <th>max</th>\n",
       "      <td>200.000000</td>\n",
       "      <td>296.400000</td>\n",
       "      <td>49.600000</td>\n",
       "      <td>114.000000</td>\n",
       "      <td>27.000000</td>\n",
       "    </tr>\n",
       "  </tbody>\n",
       "</table>\n",
       "</div>"
      ],
      "text/plain": [
       "            Index          TV       radio   newspaper       sales\n",
       "count  200.000000  200.000000  200.000000  200.000000  200.000000\n",
       "mean   100.500000  147.042500   23.264000   30.554000   14.022500\n",
       "std     57.879185   85.854236   14.846809   21.778621    5.217457\n",
       "min      1.000000    0.700000    0.000000    0.300000    1.600000\n",
       "25%     50.750000   74.375000    9.975000   12.750000   10.375000\n",
       "50%    100.500000  149.750000   22.900000   25.750000   12.900000\n",
       "75%    150.250000  218.825000   36.525000   45.100000   17.400000\n",
       "max    200.000000  296.400000   49.600000  114.000000   27.000000"
      ]
     },
     "execution_count": 12,
     "metadata": {},
     "output_type": "execute_result"
    }
   ],
   "source": [
    "df.describe()"
   ]
  },
  {
   "cell_type": "code",
   "execution_count": 13,
   "id": "phantom-southwest",
   "metadata": {},
   "outputs": [
    {
     "data": {
      "text/plain": [
       "<AxesSubplot:>"
      ]
     },
     "execution_count": 13,
     "metadata": {},
     "output_type": "execute_result"
    },
    {
     "data": {
      "image/png": "[encoded data removed]",
      "text/plain": [
       "<Figure size 1584x504 with 2 Axes>"
      ]
     },
     "metadata": {
      "needs_background": "light"
     },
     "output_type": "display_data"
    }
   ],
   "source": [
    "plt.figure(figsize = (22,7))\n",
    "sb.heatmap(df.describe(), annot = True, fmt = '0.2f')"
   ]
  },
  {
   "cell_type": "markdown",
   "id": "ancient-night",
   "metadata": {},
   "source": [
    "There are no high variances between the mean and the max values & for the 75th percentile and the max values."
   ]
  },
  {
   "cell_type": "markdown",
   "id": "exposed-fabric",
   "metadata": {},
   "source": [
    "### Checking the correlation"
   ]
  },
  {
   "cell_type": "code",
   "execution_count": 14,
   "id": "tutorial-enlargement",
   "metadata": {},
   "outputs": [
    {
     "data": {
      "text/html": [
       "<div>\n",
       "<style scoped>\n",
       "    .dataframe tbody tr th:only-of-type {\n",
       "        vertical-align: middle;\n",
       "    }\n",
       "\n",
       "    .dataframe tbody tr th {\n",
       "        vertical-align: top;\n",
       "    }\n",
       "\n",
       "    .dataframe thead th {\n",
       "        text-align: right;\n",
       "    }\n",
       "</style>\n",
       "<table border=\"1\" class=\"dataframe\">\n",
       "  <thead>\n",
       "    <tr style=\"text-align: right;\">\n",
       "      <th></th>\n",
       "      <th>Index</th>\n",
       "      <th>TV</th>\n",
       "      <th>radio</th>\n",
       "      <th>newspaper</th>\n",
       "      <th>sales</th>\n",
       "    </tr>\n",
       "  </thead>\n",
       "  <tbody>\n",
       "    <tr>\n",
       "      <th>Index</th>\n",
       "      <td>1.000000</td>\n",
       "      <td>0.017715</td>\n",
       "      <td>-0.110680</td>\n",
       "      <td>-0.154944</td>\n",
       "      <td>-0.051616</td>\n",
       "    </tr>\n",
       "    <tr>\n",
       "      <th>TV</th>\n",
       "      <td>0.017715</td>\n",
       "      <td>1.000000</td>\n",
       "      <td>0.054809</td>\n",
       "      <td>0.056648</td>\n",
       "      <td>0.782224</td>\n",
       "    </tr>\n",
       "    <tr>\n",
       "      <th>radio</th>\n",
       "      <td>-0.110680</td>\n",
       "      <td>0.054809</td>\n",
       "      <td>1.000000</td>\n",
       "      <td>0.354104</td>\n",
       "      <td>0.576223</td>\n",
       "    </tr>\n",
       "    <tr>\n",
       "      <th>newspaper</th>\n",
       "      <td>-0.154944</td>\n",
       "      <td>0.056648</td>\n",
       "      <td>0.354104</td>\n",
       "      <td>1.000000</td>\n",
       "      <td>0.228299</td>\n",
       "    </tr>\n",
       "    <tr>\n",
       "      <th>sales</th>\n",
       "      <td>-0.051616</td>\n",
       "      <td>0.782224</td>\n",
       "      <td>0.576223</td>\n",
       "      <td>0.228299</td>\n",
       "      <td>1.000000</td>\n",
       "    </tr>\n",
       "  </tbody>\n",
       "</table>\n",
       "</div>"
      ],
      "text/plain": [
       "              Index        TV     radio  newspaper     sales\n",
       "Index      1.000000  0.017715 -0.110680  -0.154944 -0.051616\n",
       "TV         0.017715  1.000000  0.054809   0.056648  0.782224\n",
       "radio     -0.110680  0.054809  1.000000   0.354104  0.576223\n",
       "newspaper -0.154944  0.056648  0.354104   1.000000  0.228299\n",
       "sales     -0.051616  0.782224  0.576223   0.228299  1.000000"
      ]
     },
     "execution_count": 14,
     "metadata": {},
     "output_type": "execute_result"
    }
   ],
   "source": [
    "df.corr()"
   ]
  },
  {
   "cell_type": "code",
   "execution_count": 15,
   "id": "stopped-arena",
   "metadata": {},
   "outputs": [
    {
     "data": {
      "text/plain": [
       "<AxesSubplot:>"
      ]
     },
     "execution_count": 15,
     "metadata": {},
     "output_type": "execute_result"
    },
    {
     "data": {
      "image/png": "[encoded data removed]",
      "text/plain": [
       "<Figure size 1584x504 with 2 Axes>"
      ]
     },
     "metadata": {
      "needs_background": "light"
     },
     "output_type": "display_data"
    }
   ],
   "source": [
    "plt.figure(figsize = (22,7))\n",
    "sb.heatmap(df.corr(), annot = True, fmt = '0.2f')"
   ]
  },
  {
   "cell_type": "markdown",
   "id": "corporate-cooper",
   "metadata": {},
   "source": [
    "There is a high correlation between TV and Sales, lesser correlation between radio and sales, and even lesser correlation between newspaper and sales. \n",
    "\n",
    "Advertising on TV turns out the best method for increasing sales. "
   ]
  },
  {
   "cell_type": "code",
   "execution_count": 16,
   "id": "emerging-japanese",
   "metadata": {},
   "outputs": [
    {
     "data": {
      "text/plain": [
       "<seaborn.axisgrid.PairGrid at 0x1f33d7b4b50>"
      ]
     },
     "execution_count": 16,
     "metadata": {},
     "output_type": "execute_result"
    },
    {
     "data": {
      "image/png": "[encoded data removed]",
      "text/plain": [
       "<Figure size 900x900 with 30 Axes>"
      ]
     },
     "metadata": {
      "needs_background": "light"
     },
     "output_type": "display_data"
    }
   ],
   "source": [
    "sb.pairplot(df)"
   ]
  },
  {
   "cell_type": "markdown",
   "id": "compact-syria",
   "metadata": {},
   "source": [
    "### Considering the outlier removal"
   ]
  },
  {
   "cell_type": "code",
   "execution_count": 17,
   "id": "emerging-commonwealth",
   "metadata": {},
   "outputs": [
    {
     "data": {
      "text/plain": [
       "(array([ 16, 101], dtype=int64), array([3, 3], dtype=int64))"
      ]
     },
     "execution_count": 17,
     "metadata": {},
     "output_type": "execute_result"
    }
   ],
   "source": [
    "from scipy.stats import zscore\n",
    "import numpy as np\n",
    "z = np.abs(zscore(df))\n",
    "threshold = 2\n",
    "np.where(z>3)"
   ]
  },
  {
   "cell_type": "markdown",
   "id": "inappropriate-rabbit",
   "metadata": {},
   "source": [
    "We can see there are only less number of outliers, so we can proceed to remove them. "
   ]
  },
  {
   "cell_type": "code",
   "execution_count": 18,
   "id": "likely-choir",
   "metadata": {},
   "outputs": [
    {
     "data": {
      "text/html": [
       "<div>\n",
       "<style scoped>\n",
       "    .dataframe tbody tr th:only-of-type {\n",
       "        vertical-align: middle;\n",
       "    }\n",
       "\n",
       "    .dataframe tbody tr th {\n",
       "        vertical-align: top;\n",
       "    }\n",
       "\n",
       "    .dataframe thead th {\n",
       "        text-align: right;\n",
       "    }\n",
       "</style>\n",
       "<table border=\"1\" class=\"dataframe\">\n",
       "  <thead>\n",
       "    <tr style=\"text-align: right;\">\n",
       "      <th></th>\n",
       "      <th>Index</th>\n",
       "      <th>TV</th>\n",
       "      <th>radio</th>\n",
       "      <th>newspaper</th>\n",
       "      <th>sales</th>\n",
       "    </tr>\n",
       "  </thead>\n",
       "  <tbody>\n",
       "    <tr>\n",
       "      <th>0</th>\n",
       "      <td>1</td>\n",
       "      <td>230.1</td>\n",
       "      <td>37.8</td>\n",
       "      <td>69.2</td>\n",
       "      <td>22.1</td>\n",
       "    </tr>\n",
       "    <tr>\n",
       "      <th>1</th>\n",
       "      <td>2</td>\n",
       "      <td>44.5</td>\n",
       "      <td>39.3</td>\n",
       "      <td>45.1</td>\n",
       "      <td>10.4</td>\n",
       "    </tr>\n",
       "    <tr>\n",
       "      <th>2</th>\n",
       "      <td>3</td>\n",
       "      <td>17.2</td>\n",
       "      <td>45.9</td>\n",
       "      <td>69.3</td>\n",
       "      <td>9.3</td>\n",
       "    </tr>\n",
       "    <tr>\n",
       "      <th>3</th>\n",
       "      <td>4</td>\n",
       "      <td>151.5</td>\n",
       "      <td>41.3</td>\n",
       "      <td>58.5</td>\n",
       "      <td>18.5</td>\n",
       "    </tr>\n",
       "    <tr>\n",
       "      <th>4</th>\n",
       "      <td>5</td>\n",
       "      <td>180.8</td>\n",
       "      <td>10.8</td>\n",
       "      <td>58.4</td>\n",
       "      <td>12.9</td>\n",
       "    </tr>\n",
       "    <tr>\n",
       "      <th>...</th>\n",
       "      <td>...</td>\n",
       "      <td>...</td>\n",
       "      <td>...</td>\n",
       "      <td>...</td>\n",
       "      <td>...</td>\n",
       "    </tr>\n",
       "    <tr>\n",
       "      <th>195</th>\n",
       "      <td>196</td>\n",
       "      <td>38.2</td>\n",
       "      <td>3.7</td>\n",
       "      <td>13.8</td>\n",
       "      <td>7.6</td>\n",
       "    </tr>\n",
       "    <tr>\n",
       "      <th>196</th>\n",
       "      <td>197</td>\n",
       "      <td>94.2</td>\n",
       "      <td>4.9</td>\n",
       "      <td>8.1</td>\n",
       "      <td>9.7</td>\n",
       "    </tr>\n",
       "    <tr>\n",
       "      <th>197</th>\n",
       "      <td>198</td>\n",
       "      <td>177.0</td>\n",
       "      <td>9.3</td>\n",
       "      <td>6.4</td>\n",
       "      <td>12.8</td>\n",
       "    </tr>\n",
       "    <tr>\n",
       "      <th>198</th>\n",
       "      <td>199</td>\n",
       "      <td>283.6</td>\n",
       "      <td>42.0</td>\n",
       "      <td>66.2</td>\n",
       "      <td>25.5</td>\n",
       "    </tr>\n",
       "    <tr>\n",
       "      <th>199</th>\n",
       "      <td>200</td>\n",
       "      <td>232.1</td>\n",
       "      <td>8.6</td>\n",
       "      <td>8.7</td>\n",
       "      <td>13.4</td>\n",
       "    </tr>\n",
       "  </tbody>\n",
       "</table>\n",
       "<p>198 rows × 5 columns</p>\n",
       "</div>"
      ],
      "text/plain": [
       "     Index     TV  radio  newspaper  sales\n",
       "0        1  230.1   37.8       69.2   22.1\n",
       "1        2   44.5   39.3       45.1   10.4\n",
       "2        3   17.2   45.9       69.3    9.3\n",
       "3        4  151.5   41.3       58.5   18.5\n",
       "4        5  180.8   10.8       58.4   12.9\n",
       "..     ...    ...    ...        ...    ...\n",
       "195    196   38.2    3.7       13.8    7.6\n",
       "196    197   94.2    4.9        8.1    9.7\n",
       "197    198  177.0    9.3        6.4   12.8\n",
       "198    199  283.6   42.0       66.2   25.5\n",
       "199    200  232.1    8.6        8.7   13.4\n",
       "\n",
       "[198 rows x 5 columns]"
      ]
     },
     "execution_count": 18,
     "metadata": {},
     "output_type": "execute_result"
    }
   ],
   "source": [
    "df_new = df[(z<3).all(axis = 1)]\n",
    "df_new"
   ]
  },
  {
   "cell_type": "code",
   "execution_count": 19,
   "id": "quiet-guarantee",
   "metadata": {},
   "outputs": [
    {
     "data": {
      "text/plain": [
       "(198, 5)"
      ]
     },
     "execution_count": 19,
     "metadata": {},
     "output_type": "execute_result"
    }
   ],
   "source": [
    "df_new.shape"
   ]
  },
  {
   "cell_type": "code",
   "execution_count": 20,
   "id": "suburban-publication",
   "metadata": {},
   "outputs": [
    {
     "data": {
      "text/plain": [
       "1.0"
      ]
     },
     "execution_count": 20,
     "metadata": {},
     "output_type": "execute_result"
    }
   ],
   "source": [
    "#Finding the percentage of dataloss\n",
    "\n",
    "loss = ((200-198)/200)*100\n",
    "loss"
   ]
  },
  {
   "cell_type": "markdown",
   "id": "documentary-lingerie",
   "metadata": {},
   "source": [
    "Since there is only 1% of dataloss, we can proceed to remove the outliers. "
   ]
  },
  {
   "cell_type": "code",
   "execution_count": 21,
   "id": "advisory-command",
   "metadata": {},
   "outputs": [
    {
     "data": {
      "text/plain": [
       "<AxesSubplot:>"
      ]
     },
     "execution_count": 21,
     "metadata": {},
     "output_type": "execute_result"
    },
    {
     "data": {
      "image/png": "[encoded data removed]",
      "text/plain": [
       "<Figure size 432x288 with 1 Axes>"
      ]
     },
     "metadata": {
      "needs_background": "light"
     },
     "output_type": "display_data"
    }
   ],
   "source": [
    "df['newspaper'].plot.box()"
   ]
  },
  {
   "cell_type": "code",
   "execution_count": 22,
   "id": "divine-evolution",
   "metadata": {},
   "outputs": [],
   "source": [
    "df = df_new"
   ]
  },
  {
   "cell_type": "code",
   "execution_count": 23,
   "id": "popular-thousand",
   "metadata": {},
   "outputs": [
    {
     "data": {
      "text/plain": [
       "(198, 5)"
      ]
     },
     "execution_count": 23,
     "metadata": {},
     "output_type": "execute_result"
    }
   ],
   "source": [
    "df.shape"
   ]
  },
  {
   "cell_type": "markdown",
   "id": "simple-macintosh",
   "metadata": {},
   "source": [
    "### Separating columns into X and Y"
   ]
  },
  {
   "cell_type": "code",
   "execution_count": 24,
   "id": "treated-storm",
   "metadata": {},
   "outputs": [],
   "source": [
    "x = df.iloc[:, 1:4]"
   ]
  },
  {
   "cell_type": "code",
   "execution_count": 25,
   "id": "departmental-mozambique",
   "metadata": {},
   "outputs": [
    {
     "data": {
      "text/html": [
       "<div>\n",
       "<style scoped>\n",
       "    .dataframe tbody tr th:only-of-type {\n",
       "        vertical-align: middle;\n",
       "    }\n",
       "\n",
       "    .dataframe tbody tr th {\n",
       "        vertical-align: top;\n",
       "    }\n",
       "\n",
       "    .dataframe thead th {\n",
       "        text-align: right;\n",
       "    }\n",
       "</style>\n",
       "<table border=\"1\" class=\"dataframe\">\n",
       "  <thead>\n",
       "    <tr style=\"text-align: right;\">\n",
       "      <th></th>\n",
       "      <th>TV</th>\n",
       "      <th>radio</th>\n",
       "      <th>newspaper</th>\n",
       "    </tr>\n",
       "  </thead>\n",
       "  <tbody>\n",
       "    <tr>\n",
       "      <th>0</th>\n",
       "      <td>230.1</td>\n",
       "      <td>37.8</td>\n",
       "      <td>69.2</td>\n",
       "    </tr>\n",
       "    <tr>\n",
       "      <th>1</th>\n",
       "      <td>44.5</td>\n",
       "      <td>39.3</td>\n",
       "      <td>45.1</td>\n",
       "    </tr>\n",
       "    <tr>\n",
       "      <th>2</th>\n",
       "      <td>17.2</td>\n",
       "      <td>45.9</td>\n",
       "      <td>69.3</td>\n",
       "    </tr>\n",
       "    <tr>\n",
       "      <th>3</th>\n",
       "      <td>151.5</td>\n",
       "      <td>41.3</td>\n",
       "      <td>58.5</td>\n",
       "    </tr>\n",
       "    <tr>\n",
       "      <th>4</th>\n",
       "      <td>180.8</td>\n",
       "      <td>10.8</td>\n",
       "      <td>58.4</td>\n",
       "    </tr>\n",
       "  </tbody>\n",
       "</table>\n",
       "</div>"
      ],
      "text/plain": [
       "      TV  radio  newspaper\n",
       "0  230.1   37.8       69.2\n",
       "1   44.5   39.3       45.1\n",
       "2   17.2   45.9       69.3\n",
       "3  151.5   41.3       58.5\n",
       "4  180.8   10.8       58.4"
      ]
     },
     "execution_count": 25,
     "metadata": {},
     "output_type": "execute_result"
    }
   ],
   "source": [
    "x.head()"
   ]
  },
  {
   "cell_type": "code",
   "execution_count": 26,
   "id": "alien-remainder",
   "metadata": {},
   "outputs": [
    {
     "data": {
      "text/plain": [
       "0    22.1\n",
       "1    10.4\n",
       "2     9.3\n",
       "3    18.5\n",
       "4    12.9\n",
       "Name: sales, dtype: float64"
      ]
     },
     "execution_count": 26,
     "metadata": {},
     "output_type": "execute_result"
    }
   ],
   "source": [
    "y = df.iloc[:, -1]\n",
    "y.head()"
   ]
  },
  {
   "cell_type": "markdown",
   "id": "attended-coalition",
   "metadata": {},
   "source": [
    "### Scaling the data using Min-Max scaler"
   ]
  },
  {
   "cell_type": "code",
   "execution_count": 27,
   "id": "limiting-logistics",
   "metadata": {},
   "outputs": [],
   "source": [
    "from sklearn.preprocessing import MinMaxScaler\n",
    "mms = MinMaxScaler()"
   ]
  },
  {
   "cell_type": "code",
   "execution_count": 28,
   "id": "governing-execution",
   "metadata": {},
   "outputs": [],
   "source": [
    "x = mms.fit_transform(x)"
   ]
  },
  {
   "cell_type": "code",
   "execution_count": 29,
   "id": "divine-tampa",
   "metadata": {},
   "outputs": [
    {
     "data": {
      "text/plain": [
       "(198, 3)"
      ]
     },
     "execution_count": 29,
     "metadata": {},
     "output_type": "execute_result"
    }
   ],
   "source": [
    "x.shape"
   ]
  },
  {
   "cell_type": "code",
   "execution_count": 30,
   "id": "dress-airfare",
   "metadata": {},
   "outputs": [
    {
     "data": {
      "text/plain": [
       "(198,)"
      ]
     },
     "execution_count": 30,
     "metadata": {},
     "output_type": "execute_result"
    }
   ],
   "source": [
    "y.shape"
   ]
  },
  {
   "cell_type": "markdown",
   "id": "contained-scheme",
   "metadata": {},
   "source": [
    "### Finding the best random state"
   ]
  },
  {
   "cell_type": "code",
   "execution_count": 31,
   "id": "manual-environment",
   "metadata": {},
   "outputs": [],
   "source": [
    "from sklearn.model_selection import train_test_split\n",
    "from sklearn.metrics import r2_score, mean_absolute_error, mean_squared_error\n",
    "from sklearn.linear_model import LinearRegression"
   ]
  },
  {
   "cell_type": "code",
   "execution_count": 32,
   "id": "loaded-stephen",
   "metadata": {},
   "outputs": [],
   "source": [
    "lr = LinearRegression()"
   ]
  },
  {
   "cell_type": "code",
   "execution_count": 42,
   "id": "conventional-commons",
   "metadata": {
    "scrolled": true
   },
   "outputs": [
    {
     "name": "stdout",
     "output_type": "stream",
     "text": [
      "At random state 0, the training accuracy is: 0.88586994520838\n",
      "At random state 0, the testing accuracy is: 0.9068225024835147\n",
      "\n",
      "\n",
      "At random state 1, the training accuracy is: 0.8860896909195269\n",
      "At random state 1, the testing accuracy is: 0.9057939794969587\n",
      "\n",
      "\n",
      "At random state 2, the training accuracy is: 0.9137739454384091\n",
      "At random state 2, the testing accuracy is: 0.8584029190210046\n",
      "\n",
      "\n",
      "At random state 3, the training accuracy is: 0.9023834789281909\n",
      "At random state 3, the testing accuracy is: 0.8809940152870163\n",
      "\n",
      "\n",
      "At random state 4, the training accuracy is: 0.9002938768700731\n",
      "At random state 4, the testing accuracy is: 0.8721688368509894\n",
      "\n",
      "\n",
      "At random state 5, the training accuracy is: 0.895935137523506\n",
      "At random state 5, the testing accuracy is: 0.8875354306856444\n",
      "\n",
      "\n",
      "At random state 6, the training accuracy is: 0.9017449009440632\n",
      "At random state 6, the testing accuracy is: 0.8796613306000014\n",
      "\n",
      "\n",
      "At random state 7, the training accuracy is: 0.89222748011076\n",
      "At random state 7, the testing accuracy is: 0.8998253582480863\n",
      "\n",
      "\n",
      "At random state 8, the training accuracy is: 0.9029760471576862\n",
      "At random state 8, the testing accuracy is: 0.8707283790784714\n",
      "\n",
      "\n",
      "At random state 9, the training accuracy is: 0.8800010792264745\n",
      "At random state 9, the testing accuracy is: 0.9208083936155473\n",
      "\n",
      "\n",
      "At random state 10, the training accuracy is: 0.923708293910713\n",
      "At random state 10, the testing accuracy is: 0.8284448801155324\n",
      "\n",
      "\n",
      "At random state 11, the training accuracy is: 0.8950874455865587\n",
      "At random state 11, the testing accuracy is: 0.8812440395776188\n",
      "\n",
      "\n",
      "At random state 12, the training accuracy is: 0.8971696717544586\n",
      "At random state 12, the testing accuracy is: 0.889659577374849\n",
      "\n",
      "\n",
      "At random state 13, the training accuracy is: 0.9035289237815526\n",
      "At random state 13, the testing accuracy is: 0.8715560938872327\n",
      "\n",
      "\n",
      "At random state 14, the training accuracy is: 0.8856824704697593\n",
      "At random state 14, the testing accuracy is: 0.9048576681634802\n",
      "\n",
      "\n",
      "At random state 15, the training accuracy is: 0.8986656113459681\n",
      "At random state 15, the testing accuracy is: 0.8734556609000871\n",
      "\n",
      "\n",
      "At random state 16, the training accuracy is: 0.8971961231180287\n",
      "At random state 16, the testing accuracy is: 0.8872947841932494\n",
      "\n",
      "\n",
      "At random state 17, the training accuracy is: 0.8859123187756281\n",
      "At random state 17, the testing accuracy is: 0.9091601005657293\n",
      "\n",
      "\n",
      "At random state 18, the training accuracy is: 0.914236109686272\n",
      "At random state 18, the testing accuracy is: 0.8497755346889547\n",
      "\n",
      "\n",
      "At random state 19, the training accuracy is: 0.8899806372432066\n",
      "At random state 19, the testing accuracy is: 0.9019718122957023\n",
      "\n",
      "\n",
      "At random state 20, the training accuracy is: 0.9073003087353176\n",
      "At random state 20, the testing accuracy is: 0.8721259236463152\n",
      "\n",
      "\n",
      "At random state 21, the training accuracy is: 0.8853018536210429\n",
      "At random state 21, the testing accuracy is: 0.9139386340652851\n",
      "\n",
      "\n",
      "At random state 22, the training accuracy is: 0.8934835861664506\n",
      "At random state 22, the testing accuracy is: 0.8912179517414769\n",
      "\n",
      "\n",
      "At random state 23, the training accuracy is: 0.8871503675522047\n",
      "At random state 23, the testing accuracy is: 0.9125365920310721\n",
      "\n",
      "\n",
      "At random state 24, the training accuracy is: 0.8828997896722309\n",
      "At random state 24, the testing accuracy is: 0.9184445718497936\n",
      "\n",
      "\n",
      "At random state 25, the training accuracy is: 0.8903193158121829\n",
      "At random state 25, the testing accuracy is: 0.9052402216637819\n",
      "\n",
      "\n",
      "At random state 26, the training accuracy is: 0.9075437186806439\n",
      "At random state 26, the testing accuracy is: 0.8458785656751604\n",
      "\n",
      "\n",
      "At random state 27, the training accuracy is: 0.9090208448348632\n",
      "At random state 27, the testing accuracy is: 0.8495030853704711\n",
      "\n",
      "\n",
      "At random state 28, the training accuracy is: 0.9141436295231619\n",
      "At random state 28, the testing accuracy is: 0.8437037595671717\n",
      "\n",
      "\n",
      "At random state 29, the training accuracy is: 0.904465838339172\n",
      "At random state 29, the testing accuracy is: 0.8691231144137644\n",
      "\n",
      "\n",
      "At random state 30, the training accuracy is: 0.9118438050796144\n",
      "At random state 30, the testing accuracy is: 0.8548933096459433\n",
      "\n",
      "\n",
      "At random state 31, the training accuracy is: 0.8825342755242542\n",
      "At random state 31, the testing accuracy is: 0.9136432124556677\n",
      "\n",
      "\n",
      "At random state 32, the training accuracy is: 0.8880843630175634\n",
      "At random state 32, the testing accuracy is: 0.9083482382456668\n",
      "\n",
      "\n",
      "At random state 33, the training accuracy is: 0.887500685978574\n",
      "At random state 33, the testing accuracy is: 0.9057551183970903\n",
      "\n",
      "\n",
      "At random state 34, the training accuracy is: 0.9035241815539\n",
      "At random state 34, the testing accuracy is: 0.8747139109373355\n",
      "\n",
      "\n",
      "At random state 35, the training accuracy is: 0.8839182043979065\n",
      "At random state 35, the testing accuracy is: 0.9185805992009811\n",
      "\n",
      "\n",
      "At random state 36, the training accuracy is: 0.8769187828667458\n",
      "At random state 36, the testing accuracy is: 0.9264373776056877\n",
      "\n",
      "\n",
      "At random state 37, the training accuracy is: 0.8907918463325628\n",
      "At random state 37, the testing accuracy is: 0.9079846337333325\n",
      "\n",
      "\n",
      "At random state 38, the training accuracy is: 0.8975111602151922\n",
      "At random state 38, the testing accuracy is: 0.8845220241577351\n",
      "\n",
      "\n",
      "At random state 39, the training accuracy is: 0.9209676849869745\n",
      "At random state 39, the testing accuracy is: 0.8382881636701436\n",
      "\n",
      "\n",
      "At random state 40, the training accuracy is: 0.8944453383808122\n",
      "At random state 40, the testing accuracy is: 0.8922148687747624\n",
      "\n",
      "\n",
      "At random state 41, the training accuracy is: 0.8936014169419066\n",
      "At random state 41, the testing accuracy is: 0.8933767863464055\n",
      "\n",
      "\n",
      "At random state 42, the training accuracy is: 0.8949751177619989\n",
      "At random state 42, the testing accuracy is: 0.8851774936997314\n",
      "\n",
      "\n",
      "At random state 43, the training accuracy is: 0.9092806386708117\n",
      "At random state 43, the testing accuracy is: 0.8623221057555002\n",
      "\n",
      "\n",
      "At random state 44, the training accuracy is: 0.9068321844838592\n",
      "At random state 44, the testing accuracy is: 0.8226103912458738\n",
      "\n",
      "\n",
      "At random state 45, the training accuracy is: 0.885256465577138\n",
      "At random state 45, the testing accuracy is: 0.9134949554356617\n",
      "\n",
      "\n",
      "At random state 46, the training accuracy is: 0.8924307006476675\n",
      "At random state 46, the testing accuracy is: 0.8990565680293762\n",
      "\n",
      "\n",
      "At random state 47, the training accuracy is: 0.8986698137026276\n",
      "At random state 47, the testing accuracy is: 0.8820851542052873\n",
      "\n",
      "\n",
      "At random state 48, the training accuracy is: 0.9133605761742858\n",
      "At random state 48, the testing accuracy is: 0.8402761046378445\n",
      "\n",
      "\n",
      "At random state 49, the training accuracy is: 0.9075402702547347\n",
      "At random state 49, the testing accuracy is: 0.8658801627090854\n",
      "\n",
      "\n",
      "At random state 50, the training accuracy is: 0.9020512816185613\n",
      "At random state 50, the testing accuracy is: 0.8645145010574453\n",
      "\n",
      "\n",
      "At random state 51, the training accuracy is: 0.8927449284687781\n",
      "At random state 51, the testing accuracy is: 0.894432819757971\n",
      "\n",
      "\n",
      "At random state 52, the training accuracy is: 0.892220569743811\n",
      "At random state 52, the testing accuracy is: 0.8931318127884219\n",
      "\n",
      "\n",
      "At random state 53, the training accuracy is: 0.9105157471287115\n",
      "At random state 53, the testing accuracy is: 0.8594911719655898\n",
      "\n",
      "\n",
      "At random state 54, the training accuracy is: 0.8982799422745233\n",
      "At random state 54, the testing accuracy is: 0.8866690325006563\n",
      "\n",
      "\n",
      "At random state 55, the training accuracy is: 0.88947472491047\n",
      "At random state 55, the testing accuracy is: 0.9038609442070772\n",
      "\n",
      "\n",
      "At random state 56, the training accuracy is: 0.9018963373598472\n",
      "At random state 56, the testing accuracy is: 0.870477867163792\n",
      "\n",
      "\n",
      "At random state 57, the training accuracy is: 0.9102810492561247\n",
      "At random state 57, the testing accuracy is: 0.8604434393550908\n",
      "\n",
      "\n",
      "At random state 58, the training accuracy is: 0.8883989038648941\n",
      "At random state 58, the testing accuracy is: 0.9080429370751605\n",
      "\n",
      "\n",
      "At random state 59, the training accuracy is: 0.8838878019325821\n",
      "At random state 59, the testing accuracy is: 0.9210388031716974\n",
      "\n",
      "\n",
      "At random state 60, the training accuracy is: 0.89061769495724\n",
      "At random state 60, the testing accuracy is: 0.8952077514029648\n",
      "\n",
      "\n",
      "At random state 61, the training accuracy is: 0.9076067999677688\n",
      "At random state 61, the testing accuracy is: 0.8614824425334016\n",
      "\n",
      "\n",
      "At random state 62, the training accuracy is: 0.9040393474635013\n",
      "At random state 62, the testing accuracy is: 0.8584890258201392\n",
      "\n",
      "\n",
      "At random state 63, the training accuracy is: 0.8975004817202747\n",
      "At random state 63, the testing accuracy is: 0.8826443202084348\n",
      "\n",
      "\n",
      "At random state 64, the training accuracy is: 0.8895616658792077\n",
      "At random state 64, the testing accuracy is: 0.9071733277577685\n",
      "\n",
      "\n",
      "At random state 65, the training accuracy is: 0.8988206938867279\n",
      "At random state 65, the testing accuracy is: 0.8855815489192903\n",
      "\n",
      "\n",
      "At random state 66, the training accuracy is: 0.9093216008678632\n",
      "At random state 66, the testing accuracy is: 0.8609638969968614\n",
      "\n",
      "\n",
      "At random state 67, the training accuracy is: 0.9136220650556273\n",
      "At random state 67, the testing accuracy is: 0.8369927930576351\n",
      "\n",
      "\n",
      "At random state 68, the training accuracy is: 0.9100529229079707\n",
      "At random state 68, the testing accuracy is: 0.8489794215558216\n",
      "\n",
      "\n",
      "At random state 69, the training accuracy is: 0.8874796467560548\n",
      "At random state 69, the testing accuracy is: 0.9113500863167276\n",
      "\n",
      "\n",
      "At random state 70, the training accuracy is: 0.8784926937242475\n",
      "At random state 70, the testing accuracy is: 0.9229249347284301\n",
      "\n",
      "\n",
      "At random state 71, the training accuracy is: 0.903549216538596\n",
      "At random state 71, the testing accuracy is: 0.8670653394898917\n",
      "\n",
      "\n",
      "At random state 72, the training accuracy is: 0.8942013509409263\n",
      "At random state 72, the testing accuracy is: 0.8878601298276706\n",
      "\n",
      "\n",
      "At random state 73, the training accuracy is: 0.906586618333861\n",
      "At random state 73, the testing accuracy is: 0.8520825035287036\n",
      "\n",
      "\n",
      "At random state 74, the training accuracy is: 0.8769946221781517\n",
      "At random state 74, the testing accuracy is: 0.9165754984843428\n",
      "\n",
      "\n",
      "At random state 75, the training accuracy is: 0.893951105810423\n",
      "At random state 75, the testing accuracy is: 0.8847466761742473\n",
      "\n",
      "\n",
      "At random state 76, the training accuracy is: 0.9087097619849821\n",
      "At random state 76, the testing accuracy is: 0.8525102934420405\n",
      "\n",
      "\n",
      "At random state 77, the training accuracy is: 0.8974249883626961\n",
      "At random state 77, the testing accuracy is: 0.8861194636677392\n",
      "\n",
      "\n"
     ]
    },
    {
     "name": "stdout",
     "output_type": "stream",
     "text": [
      "At random state 78, the training accuracy is: 0.9169621323843647\n",
      "At random state 78, the testing accuracy is: 0.7976203398705746\n",
      "\n",
      "\n",
      "At random state 79, the training accuracy is: 0.8917819750398744\n",
      "At random state 79, the testing accuracy is: 0.8913420600945413\n",
      "\n",
      "\n",
      "At random state 80, the training accuracy is: 0.9101016022238976\n",
      "At random state 80, the testing accuracy is: 0.8542644746016084\n",
      "\n",
      "\n",
      "At random state 81, the training accuracy is: 0.8860270981868439\n",
      "At random state 81, the testing accuracy is: 0.9153799142358502\n",
      "\n",
      "\n",
      "At random state 82, the training accuracy is: 0.9135664204633508\n",
      "At random state 82, the testing accuracy is: 0.8318705857447494\n",
      "\n",
      "\n",
      "At random state 83, the training accuracy is: 0.8977455609604108\n",
      "At random state 83, the testing accuracy is: 0.8885888832949177\n",
      "\n",
      "\n",
      "At random state 84, the training accuracy is: 0.8773468497888726\n",
      "At random state 84, the testing accuracy is: 0.9313062022373504\n",
      "\n",
      "\n",
      "At random state 85, the training accuracy is: 0.9176717840377813\n",
      "At random state 85, the testing accuracy is: 0.7968521068494534\n",
      "\n",
      "\n",
      "At random state 86, the training accuracy is: 0.8916962151495524\n",
      "At random state 86, the testing accuracy is: 0.897772342469838\n",
      "\n",
      "\n",
      "At random state 87, the training accuracy is: 0.9072690531206464\n",
      "At random state 87, the testing accuracy is: 0.8632922688841436\n",
      "\n",
      "\n",
      "At random state 88, the training accuracy is: 0.8895429829806211\n",
      "At random state 88, the testing accuracy is: 0.9092737484973548\n",
      "\n",
      "\n",
      "At random state 89, the training accuracy is: 0.9019819107107756\n",
      "At random state 89, the testing accuracy is: 0.8747888442086135\n",
      "\n",
      "\n",
      "At random state 90, the training accuracy is: 0.8781187090255373\n",
      "At random state 90, the testing accuracy is: 0.9373215416328826\n",
      "\n",
      "\n",
      "At random state 91, the training accuracy is: 0.9000044551122609\n",
      "At random state 91, the testing accuracy is: 0.8639583701822212\n",
      "\n",
      "\n",
      "At random state 92, the training accuracy is: 0.8847987303255741\n",
      "At random state 92, the testing accuracy is: 0.9052244765001731\n",
      "\n",
      "\n",
      "At random state 93, the training accuracy is: 0.9049270532216066\n",
      "At random state 93, the testing accuracy is: 0.8681798145419224\n",
      "\n",
      "\n",
      "At random state 94, the training accuracy is: 0.9048154047476873\n",
      "At random state 94, the testing accuracy is: 0.8756438421063288\n",
      "\n",
      "\n",
      "At random state 95, the training accuracy is: 0.9015219277302224\n",
      "At random state 95, the testing accuracy is: 0.8680025686383874\n",
      "\n",
      "\n",
      "At random state 96, the training accuracy is: 0.8967746737207124\n",
      "At random state 96, the testing accuracy is: 0.8886704677331158\n",
      "\n",
      "\n",
      "At random state 97, the training accuracy is: 0.8964443407127717\n",
      "At random state 97, the testing accuracy is: 0.8849391263265268\n",
      "\n",
      "\n",
      "At random state 98, the training accuracy is: 0.91285539269527\n",
      "At random state 98, the testing accuracy is: 0.8485078012689005\n",
      "\n",
      "\n",
      "At random state 99, the training accuracy is: 0.8847127597652709\n",
      "At random state 99, the testing accuracy is: 0.9155067738122787\n",
      "\n",
      "\n"
     ]
    }
   ],
   "source": [
    "for i in range(0,100):\n",
    "    x_train, x_test, y_train, y_test = train_test_split(x, y, test_size = 0.3, random_state = i)\n",
    "    lr.fit(x_train, y_train)\n",
    "    pred_train = lr.predict(x_train)\n",
    "    pred_test = lr.predict(x_test)\n",
    "    \n",
    "    print(f'At random state {i}, the training accuracy is: {r2_score(y_train, pred_train)}')\n",
    "    print(f'At random state {i}, the testing accuracy is: {r2_score(y_test, pred_test)}')\n",
    "    print('\\n')"
   ]
  },
  {
   "cell_type": "markdown",
   "id": "friendly-monster",
   "metadata": {},
   "source": [
    "We get the best training and testing accuracy at random state 41. "
   ]
  },
  {
   "cell_type": "code",
   "execution_count": 43,
   "id": "chinese-lewis",
   "metadata": {},
   "outputs": [],
   "source": [
    "x_train, x_test, y_train, y_test = train_test_split(x, y, test_size = .30, random_state = 41)"
   ]
  },
  {
   "cell_type": "code",
   "execution_count": 44,
   "id": "recovered-controversy",
   "metadata": {},
   "outputs": [
    {
     "data": {
      "text/plain": [
       "(138, 3)"
      ]
     },
     "execution_count": 44,
     "metadata": {},
     "output_type": "execute_result"
    }
   ],
   "source": [
    "x_train.shape"
   ]
  },
  {
   "cell_type": "code",
   "execution_count": 45,
   "id": "martial-secondary",
   "metadata": {},
   "outputs": [
    {
     "data": {
      "text/plain": [
       "(60, 3)"
      ]
     },
     "execution_count": 45,
     "metadata": {},
     "output_type": "execute_result"
    }
   ],
   "source": [
    "x_test.shape"
   ]
  },
  {
   "cell_type": "code",
   "execution_count": 46,
   "id": "professional-approach",
   "metadata": {},
   "outputs": [
    {
     "data": {
      "text/plain": [
       "(138,)"
      ]
     },
     "execution_count": 46,
     "metadata": {},
     "output_type": "execute_result"
    }
   ],
   "source": [
    "y_train.shape"
   ]
  },
  {
   "cell_type": "code",
   "execution_count": 47,
   "id": "objective-input",
   "metadata": {},
   "outputs": [
    {
     "data": {
      "text/plain": [
       "(60,)"
      ]
     },
     "execution_count": 47,
     "metadata": {},
     "output_type": "execute_result"
    }
   ],
   "source": [
    "y_test.shape"
   ]
  },
  {
   "cell_type": "markdown",
   "id": "caring-creature",
   "metadata": {},
   "source": [
    "### Running regressor models"
   ]
  },
  {
   "cell_type": "code",
   "execution_count": 89,
   "id": "polish-hybrid",
   "metadata": {},
   "outputs": [],
   "source": [
    "from sklearn.linear_model import LinearRegression\n",
    "from sklearn.neighbors import KNeighborsRegressor\n",
    "from sklearn.tree import DecisionTreeRegressor\n",
    "from sklearn.svm import SVR\n",
    "from sklearn.linear_model import Lasso, Ridge, ElasticNet\n",
    "from sklearn.ensemble import RandomForestRegressor"
   ]
  },
  {
   "cell_type": "code",
   "execution_count": 90,
   "id": "fifth-titanium",
   "metadata": {},
   "outputs": [],
   "source": [
    "lr = LinearRegression()\n",
    "knr = KNeighborsRegressor()\n",
    "dtr = DecisionTreeRegressor()\n",
    "svr = SVR()\n",
    "rfr = RandomForestRegressor()\n",
    "ls = Lasso()\n",
    "rd = Ridge()\n",
    "eln = ElasticNet()"
   ]
  },
  {
   "cell_type": "code",
   "execution_count": 91,
   "id": "subject-dryer",
   "metadata": {},
   "outputs": [
    {
     "name": "stdout",
     "output_type": "stream",
     "text": [
      "LinearRegression()\n",
      "Score:  0.8936014169419066\n",
      "Mean absolute error:  1.1963503738157542\n",
      "Mean squared error:  3.275795359225156\n",
      "Root mean squared error:  1.809915843133364\n",
      "R2 Score:  0.8933767863464055\n",
      "\n",
      "\n",
      "\n",
      "KNeighborsRegressor()\n",
      "Score:  0.9649062930720114\n",
      "Mean absolute error:  0.952333333333333\n",
      "Mean squared error:  2.211513333333333\n",
      "Root mean squared error:  1.4871157767078302\n",
      "R2 Score:  0.9280178909913507\n",
      "\n",
      "\n",
      "\n",
      "DecisionTreeRegressor()\n",
      "Score:  1.0\n",
      "Mean absolute error:  0.8483333333333334\n",
      "Mean squared error:  1.2755\n",
      "Root mean squared error:  1.1293803610830144\n",
      "R2 Score:  0.9584840033941168\n",
      "\n",
      "\n",
      "\n",
      "SVR()\n",
      "Score:  0.9297384930642448\n",
      "Mean absolute error:  1.0308043376867044\n",
      "Mean squared error:  2.908695771552174\n",
      "Root mean squared error:  1.705489891952507\n",
      "R2 Score:  0.9053254380405276\n",
      "\n",
      "\n",
      "\n",
      "RandomForestRegressor()\n",
      "Score:  0.9969773203074497\n",
      "Mean absolute error:  0.6150999999999994\n",
      "Mean squared error:  0.7000216999999971\n",
      "Root mean squared error:  0.8366729946639828\n",
      "R2 Score:  0.9772151324804041\n",
      "\n",
      "\n",
      "\n",
      "Lasso()\n",
      "Score:  0.09242087123128084\n",
      "Mean absolute error:  4.451494521888721\n",
      "Mean squared error:  28.698785508664557\n",
      "Root mean squared error:  5.357124742682828\n",
      "R2 Score:  0.06588892060314389\n",
      "\n",
      "\n",
      "\n",
      "Ridge()\n",
      "Score:  0.8878933716987258\n",
      "Mean absolute error:  1.3238503340421555\n",
      "Mean squared error:  3.6676450926973048\n",
      "Root mean squared error:  1.915109681636356\n",
      "R2 Score:  0.880622547063892\n",
      "\n",
      "\n",
      "\n",
      "ElasticNet()\n",
      "Score:  0.12953862417587247\n",
      "Mean absolute error:  4.3746648563192485\n",
      "Mean squared error:  27.77497316971337\n",
      "Root mean squared error:  5.270196691748171\n",
      "R2 Score:  0.0959579052588635\n",
      "\n",
      "\n",
      "\n"
     ]
    }
   ],
   "source": [
    "model = [lr, knr, dtr, svr, rfr, ls, rd, eln]\n",
    "for m in model:\n",
    "    print(m)\n",
    "    m.fit(x_train, y_train)\n",
    "    a = m.score(x_train, y_train)\n",
    "    pred = m.predict(x_test)\n",
    "    print('Score: ', a)\n",
    "    print('Mean absolute error: ', mean_absolute_error(y_test,pred))\n",
    "    print('Mean squared error: ', mean_squared_error(y_test,pred))\n",
    "    print('Root mean squared error: ', np.sqrt(mean_squared_error(y_test,pred)))\n",
    "    print('R2 Score: ', r2_score(y_test,pred))\n",
    "    print('\\n\\n')"
   ]
  },
  {
   "cell_type": "markdown",
   "id": "exciting-italian",
   "metadata": {},
   "source": [
    "### Cross Validation"
   ]
  },
  {
   "cell_type": "code",
   "execution_count": 67,
   "id": "meaning-thunder",
   "metadata": {},
   "outputs": [],
   "source": [
    "from sklearn.model_selection import cross_val_score"
   ]
  },
  {
   "cell_type": "markdown",
   "id": "valued-jimmy",
   "metadata": {},
   "source": [
    "Using for loop to find the best cross val score which gives us the best values."
   ]
  },
  {
   "cell_type": "code",
   "execution_count": 92,
   "id": "indoor-hampshire",
   "metadata": {},
   "outputs": [
    {
     "name": "stdout",
     "output_type": "stream",
     "text": [
      "LinearRegression()\n",
      "[0.8886177292201751, 0.8890406332045909, 0.8880501918930908, 0.8853605756683912, 0.8868174285063072, 0.8838282894864758, 0.8880334554150218, 0.8810485430282271]\n",
      "CV Value =  3\n",
      "Best Score = 0.8890406332045909\n",
      "\n",
      "\n",
      "KNeighborsRegressor()\n",
      "[0.9342141967199984, 0.9267174295815545, 0.9476918344554206, 0.9488587105643586, 0.9450574094562446, 0.9477224849519468, 0.9457554856457697, 0.9446634380206663]\n",
      "CV Value =  5\n",
      "Best Score = 0.9488587105643586\n",
      "\n",
      "\n",
      "DecisionTreeRegressor()\n",
      "[0.9060961084605024, 0.9390622724377895, 0.9403511001177067, 0.9499110021001942, 0.9467877721844702, 0.9464029733092175, 0.9450568879964085, 0.940039074186601]\n",
      "CV Value =  5\n",
      "Best Score = 0.9499110021001942\n",
      "\n",
      "\n",
      "SVR()\n",
      "[0.8680671763474577, 0.9062559503669076, 0.9143720909419177, 0.9203401233430398, 0.9223933576167607, 0.9204114789057524, 0.9237605861486065, 0.9238505080329976]\n",
      "CV Value =  9\n",
      "Best Score = 0.9238505080329976\n",
      "\n",
      "\n",
      "RandomForestRegressor()\n",
      "[0.9699557728844925, 0.9739622421360289, 0.9772650818817993, 0.9759792583871807, 0.9763095099957383, 0.9768124619143997, 0.9769803106207031, 0.9778704484315129]\n",
      "CV Value =  9\n",
      "Best Score = 0.9778704484315129\n",
      "\n",
      "\n",
      "Lasso()\n",
      "[0.1302946828492208, 0.15064955455793763, 0.148010716415413, 0.1545277837938553, 0.14112627030120212, 0.12642987147559792, 0.13907528879943087, 0.13166409927230607]\n",
      "CV Value =  5\n",
      "Best Score = 0.1545277837938553\n",
      "\n",
      "\n",
      "Ridge()\n",
      "[0.8788963141456618, 0.8837915242311755, 0.8837092657848451, 0.8826161957072032, 0.8827547614580741, 0.8804090969341691, 0.8857002174635625, 0.8784531976702096]\n",
      "CV Value =  8\n",
      "Best Score = 0.8857002174635625\n",
      "\n",
      "\n",
      "ElasticNet()\n",
      "[0.10278150477623788, 0.12370973964819976, 0.12016748642628092, 0.12691376059275797, 0.10885604279742128, 0.09559862797016662, 0.10975319876961419, 0.09821812770000005]\n",
      "CV Value =  5\n",
      "Best Score = 0.12691376059275797\n",
      "\n",
      "\n"
     ]
    }
   ],
   "source": [
    "model = [lr, knr, dtr, svr, rfr, ls, rd, eln]\n",
    "for m in model:\n",
    "    print(m)\n",
    "    i = []\n",
    "    for a in range (2,10):\n",
    "        score = cross_val_score(m, x, y, cv = a)\n",
    "        k = score.mean()\n",
    "        i.append(k)\n",
    "    print(i)\n",
    "    print('CV Value = ', i.index(max(i))+2)\n",
    "    print('Best Score =' , max(i))\n",
    "    print('\\n')"
   ]
  },
  {
   "cell_type": "markdown",
   "id": "written-spectrum",
   "metadata": {},
   "source": [
    "RandomForestRegressor turned out to be the model with the least difference between R2_Score and Cross_val_score.\n",
    "\n",
    "The CV number with gives the best result is 9"
   ]
  },
  {
   "cell_type": "markdown",
   "id": "configured-capitol",
   "metadata": {},
   "source": [
    "### Doing the RandomForestRegressor separately"
   ]
  },
  {
   "cell_type": "code",
   "execution_count": 95,
   "id": "indoor-inquiry",
   "metadata": {},
   "outputs": [],
   "source": [
    "rfr.fit(x_train, y_train)\n",
    "a = rfr.score(x_train, y_train)\n",
    "pred_train = rfr.predict(x_train)\n",
    "pred_test_rfr = rfr.predict(x_test)"
   ]
  },
  {
   "cell_type": "code",
   "execution_count": 109,
   "id": "another-bangladesh",
   "metadata": {},
   "outputs": [
    {
     "data": {
      "image/png": "[encoded data removed]",
      "text/plain": [
       "<Figure size 576x432 with 1 Axes>"
      ]
     },
     "metadata": {
      "needs_background": "light"
     },
     "output_type": "display_data"
    }
   ],
   "source": [
    "plt.figure(figsize = (8,6))\n",
    "plt.scatter(x = y_test, y = pred_test_rfr, color = 'r')\n",
    "plt.plot(y_test, y_test, color = 'b')\n",
    "plt.xlabel('Actual Score: ', fontsize = 14)\n",
    "plt.ylabel('Predicted Score: ', fontsize = 14)\n",
    "plt.title('RandomForestRegressor', fontsize = 18)\n",
    "plt.show()"
   ]
  },
  {
   "cell_type": "markdown",
   "id": "exposed-occupation",
   "metadata": {},
   "source": [
    "The model looks like a good fit."
   ]
  },
  {
   "cell_type": "markdown",
   "id": "accepted-mount",
   "metadata": {},
   "source": [
    "### Regularization using GridSearchCV"
   ]
  },
  {
   "cell_type": "code",
   "execution_count": 99,
   "id": "hawaiian-neighbor",
   "metadata": {},
   "outputs": [],
   "source": [
    "from sklearn.model_selection import GridSearchCV"
   ]
  },
  {
   "cell_type": "code",
   "execution_count": 102,
   "id": "tight-association",
   "metadata": {},
   "outputs": [
    {
     "name": "stdout",
     "output_type": "stream",
     "text": [
      "{'criterion': 'mse', 'max_features': 'auto'}\n"
     ]
    }
   ],
   "source": [
    "parameters = {'criterion':['mse', 'mae'], 'max_features':['auto', 'sqrt', 'log2']}\n",
    "rfr = RandomForestRegressor()\n",
    "gscv = GridSearchCV(rfr, parameters)\n",
    "gscv.fit(x_train, y_train)\n",
    "\n",
    "print(gscv.best_params_)"
   ]
  },
  {
   "cell_type": "code",
   "execution_count": 103,
   "id": "fifty-efficiency",
   "metadata": {},
   "outputs": [
    {
     "data": {
      "text/html": [
       "<div>\n",
       "<style scoped>\n",
       "    .dataframe tbody tr th:only-of-type {\n",
       "        vertical-align: middle;\n",
       "    }\n",
       "\n",
       "    .dataframe tbody tr th {\n",
       "        vertical-align: top;\n",
       "    }\n",
       "\n",
       "    .dataframe thead th {\n",
       "        text-align: right;\n",
       "    }\n",
       "</style>\n",
       "<table border=\"1\" class=\"dataframe\">\n",
       "  <thead>\n",
       "    <tr style=\"text-align: right;\">\n",
       "      <th></th>\n",
       "      <th>0</th>\n",
       "      <th>1</th>\n",
       "      <th>2</th>\n",
       "      <th>3</th>\n",
       "      <th>4</th>\n",
       "      <th>5</th>\n",
       "      <th>6</th>\n",
       "      <th>7</th>\n",
       "      <th>8</th>\n",
       "      <th>9</th>\n",
       "      <th>...</th>\n",
       "      <th>50</th>\n",
       "      <th>51</th>\n",
       "      <th>52</th>\n",
       "      <th>53</th>\n",
       "      <th>54</th>\n",
       "      <th>55</th>\n",
       "      <th>56</th>\n",
       "      <th>57</th>\n",
       "      <th>58</th>\n",
       "      <th>59</th>\n",
       "    </tr>\n",
       "  </thead>\n",
       "  <tbody>\n",
       "    <tr>\n",
       "      <th>Predicted</th>\n",
       "      <td>15.286</td>\n",
       "      <td>16.571</td>\n",
       "      <td>14.493</td>\n",
       "      <td>9.862</td>\n",
       "      <td>23.305</td>\n",
       "      <td>11.77</td>\n",
       "      <td>19.244</td>\n",
       "      <td>19.13</td>\n",
       "      <td>22.54</td>\n",
       "      <td>17.716</td>\n",
       "      <td>...</td>\n",
       "      <td>12.373</td>\n",
       "      <td>10.854</td>\n",
       "      <td>13.177</td>\n",
       "      <td>18.752</td>\n",
       "      <td>11.304</td>\n",
       "      <td>8.503</td>\n",
       "      <td>14.321</td>\n",
       "      <td>10.058</td>\n",
       "      <td>7.055</td>\n",
       "      <td>17.981</td>\n",
       "    </tr>\n",
       "    <tr>\n",
       "      <th>Actual</th>\n",
       "      <td>15.500</td>\n",
       "      <td>18.000</td>\n",
       "      <td>15.000</td>\n",
       "      <td>9.700</td>\n",
       "      <td>22.300</td>\n",
       "      <td>10.60</td>\n",
       "      <td>19.600</td>\n",
       "      <td>19.40</td>\n",
       "      <td>22.60</td>\n",
       "      <td>18.000</td>\n",
       "      <td>...</td>\n",
       "      <td>11.700</td>\n",
       "      <td>11.800</td>\n",
       "      <td>12.900</td>\n",
       "      <td>19.200</td>\n",
       "      <td>11.400</td>\n",
       "      <td>9.500</td>\n",
       "      <td>14.100</td>\n",
       "      <td>10.100</td>\n",
       "      <td>6.600</td>\n",
       "      <td>17.100</td>\n",
       "    </tr>\n",
       "  </tbody>\n",
       "</table>\n",
       "<p>2 rows × 60 columns</p>\n",
       "</div>"
      ],
      "text/plain": [
       "               0       1       2      3       4      5       6      7      8   \\\n",
       "Predicted  15.286  16.571  14.493  9.862  23.305  11.77  19.244  19.13  22.54   \n",
       "Actual     15.500  18.000  15.000  9.700  22.300  10.60  19.600  19.40  22.60   \n",
       "\n",
       "               9   ...      50      51      52      53      54     55      56  \\\n",
       "Predicted  17.716  ...  12.373  10.854  13.177  18.752  11.304  8.503  14.321   \n",
       "Actual     18.000  ...  11.700  11.800  12.900  19.200  11.400  9.500  14.100   \n",
       "\n",
       "               57     58      59  \n",
       "Predicted  10.058  7.055  17.981  \n",
       "Actual     10.100  6.600  17.100  \n",
       "\n",
       "[2 rows x 60 columns]"
      ]
     },
     "execution_count": 103,
     "metadata": {},
     "output_type": "execute_result"
    }
   ],
   "source": [
    "rfr_reg = RandomForestRegressor(criterion = 'mse', max_features = 'auto')\n",
    "rfr_reg = RandomForestRegressor()\n",
    "rfr_reg.fit(x_train, y_train)\n",
    "rfr_reg.score(x_train, y_train)\n",
    "predrfr_reg = rfr_reg.predict(x_test)\n",
    "data = [predrfr_reg, y_test]\n",
    "pd.DataFrame(data, index = ['Predicted', 'Actual'])"
   ]
  },
  {
   "cell_type": "code",
   "execution_count": 104,
   "id": "referenced-zoning",
   "metadata": {},
   "outputs": [
    {
     "name": "stdout",
     "output_type": "stream",
     "text": [
      "Errors:\n",
      "\n",
      "\n",
      "Mean absolute error:  0.6131999999999986\n",
      "Mean squared error:  0.7261435999999943\n",
      "Root mean squared error:  0.8521405987276949\n",
      "\n",
      "\n",
      "R2 Score:  0.9763648959365083\n"
     ]
    }
   ],
   "source": [
    "print('Errors:')\n",
    "print('\\n')\n",
    "print('Mean absolute error: ', mean_absolute_error(y_test,predrfr_reg))\n",
    "print('Mean squared error: ', mean_squared_error(y_test,predrfr_reg))\n",
    "print('Root mean squared error: ', np.sqrt(mean_squared_error(y_test,predrfr_reg)))\n",
    "print('\\n')\n",
    "print('R2 Score: ', r2_score(y_test,predrfr_reg))"
   ]
  },
  {
   "cell_type": "markdown",
   "id": "skilled-orchestra",
   "metadata": {},
   "source": [
    "We're getting a model accuracy of 97% which is quite good. "
   ]
  },
  {
   "cell_type": "markdown",
   "id": "commercial-moral",
   "metadata": {},
   "source": [
    "### Saving the model"
   ]
  },
  {
   "cell_type": "code",
   "execution_count": 105,
   "id": "polish-strip",
   "metadata": {},
   "outputs": [
    {
     "data": {
      "text/plain": [
       "['Advertising.obj']"
      ]
     },
     "execution_count": 105,
     "metadata": {},
     "output_type": "execute_result"
    }
   ],
   "source": [
    "import joblib\n",
    "joblib.dump(rfr_reg, 'Advertising.obj')"
   ]
  },
  {
   "cell_type": "markdown",
   "id": "toxic-vitamin",
   "metadata": {},
   "source": [
    "### Conclsion"
   ]
  },
  {
   "cell_type": "code",
   "execution_count": 106,
   "id": "combined-marathon",
   "metadata": {},
   "outputs": [
    {
     "data": {
      "text/plain": [
       "array([10.717, 13.286, 12.693, 12.001, 25.718, 12.382,  8.607,  4.276,\n",
       "       16.275,  7.059,  8.929, 13.367, 25.078, 11.56 , 20.117, 15.063,\n",
       "        6.48 ,  9.254,  7.183,  8.36 , 15.924, 14.258, 12.799, 15.079,\n",
       "       17.043, 20.971, 14.869, 11.518, 14.537,  4.981, 13.796, 10.434,\n",
       "        7.759,  7.335,  9.534, 11.971, 18.881,  9.519, 10.567, 11.879,\n",
       "       18.563, 10.966, 12.141, 10.587, 11.062, 23.708, 23.237,  8.788,\n",
       "       15.383, 13.086, 11.637, 10.658, 10.507, 25.28 , 13.902, 21.901,\n",
       "       12.898, 24.398, 11.504,  6.466, 12.13 , 11.635, 12.739, 12.089,\n",
       "       24.209, 11.037, 12.265, 17.248, 18.552, 10.374,  9.585, 13.068,\n",
       "        5.442,  9.54 , 18.283, 15.101, 14.93 , 20.474, 14.374, 14.852,\n",
       "       11.639, 14.254,  7.369, 21.735,  9.887, 10.37 , 16.884, 11.051,\n",
       "        8.801, 18.409, 20.514,  8.645,  9.78 , 16.175, 11.811,  6.074,\n",
       "        9.565, 17.044, 10.093, 16.341,  8.927,  7.278, 15.551, 10.677,\n",
       "       15.845, 12.407,  8.954, 14.153, 12.461,  8.163, 13.223, 11.923,\n",
       "       12.715, 10.455, 18.255, 20.011, 10.684, 20.027, 24.914, 22.069,\n",
       "       16.369, 12.245,  8.883, 15.92 , 15.279, 10.843, 25.317, 19.693,\n",
       "       10.38 , 21.876, 15.767, 19.054, 11.051,  9.08 , 12.229, 19.791,\n",
       "       11.978, 16.908])"
      ]
     },
     "execution_count": 106,
     "metadata": {},
     "output_type": "execute_result"
    }
   ],
   "source": [
    "final = joblib.load('Advertising.obj')\n",
    "final.predict(x_train)"
   ]
  },
  {
   "cell_type": "code",
   "execution_count": 107,
   "id": "cosmetic-replacement",
   "metadata": {},
   "outputs": [],
   "source": [
    "conclusion = pd.DataFrame([final.predict(x_test)[:], predrfr_reg[:]], index = ['Predicted', 'Original'])"
   ]
  },
  {
   "cell_type": "code",
   "execution_count": 108,
   "id": "blank-inspector",
   "metadata": {},
   "outputs": [
    {
     "data": {
      "text/html": [
       "<div>\n",
       "<style scoped>\n",
       "    .dataframe tbody tr th:only-of-type {\n",
       "        vertical-align: middle;\n",
       "    }\n",
       "\n",
       "    .dataframe tbody tr th {\n",
       "        vertical-align: top;\n",
       "    }\n",
       "\n",
       "    .dataframe thead th {\n",
       "        text-align: right;\n",
       "    }\n",
       "</style>\n",
       "<table border=\"1\" class=\"dataframe\">\n",
       "  <thead>\n",
       "    <tr style=\"text-align: right;\">\n",
       "      <th></th>\n",
       "      <th>0</th>\n",
       "      <th>1</th>\n",
       "      <th>2</th>\n",
       "      <th>3</th>\n",
       "      <th>4</th>\n",
       "      <th>5</th>\n",
       "      <th>6</th>\n",
       "      <th>7</th>\n",
       "      <th>8</th>\n",
       "      <th>9</th>\n",
       "      <th>...</th>\n",
       "      <th>50</th>\n",
       "      <th>51</th>\n",
       "      <th>52</th>\n",
       "      <th>53</th>\n",
       "      <th>54</th>\n",
       "      <th>55</th>\n",
       "      <th>56</th>\n",
       "      <th>57</th>\n",
       "      <th>58</th>\n",
       "      <th>59</th>\n",
       "    </tr>\n",
       "  </thead>\n",
       "  <tbody>\n",
       "    <tr>\n",
       "      <th>Predicted</th>\n",
       "      <td>15.286</td>\n",
       "      <td>16.571</td>\n",
       "      <td>14.493</td>\n",
       "      <td>9.862</td>\n",
       "      <td>23.305</td>\n",
       "      <td>11.77</td>\n",
       "      <td>19.244</td>\n",
       "      <td>19.13</td>\n",
       "      <td>22.54</td>\n",
       "      <td>17.716</td>\n",
       "      <td>...</td>\n",
       "      <td>12.373</td>\n",
       "      <td>10.854</td>\n",
       "      <td>13.177</td>\n",
       "      <td>18.752</td>\n",
       "      <td>11.304</td>\n",
       "      <td>8.503</td>\n",
       "      <td>14.321</td>\n",
       "      <td>10.058</td>\n",
       "      <td>7.055</td>\n",
       "      <td>17.981</td>\n",
       "    </tr>\n",
       "    <tr>\n",
       "      <th>Original</th>\n",
       "      <td>15.286</td>\n",
       "      <td>16.571</td>\n",
       "      <td>14.493</td>\n",
       "      <td>9.862</td>\n",
       "      <td>23.305</td>\n",
       "      <td>11.77</td>\n",
       "      <td>19.244</td>\n",
       "      <td>19.13</td>\n",
       "      <td>22.54</td>\n",
       "      <td>17.716</td>\n",
       "      <td>...</td>\n",
       "      <td>12.373</td>\n",
       "      <td>10.854</td>\n",
       "      <td>13.177</td>\n",
       "      <td>18.752</td>\n",
       "      <td>11.304</td>\n",
       "      <td>8.503</td>\n",
       "      <td>14.321</td>\n",
       "      <td>10.058</td>\n",
       "      <td>7.055</td>\n",
       "      <td>17.981</td>\n",
       "    </tr>\n",
       "  </tbody>\n",
       "</table>\n",
       "<p>2 rows × 60 columns</p>\n",
       "</div>"
      ],
      "text/plain": [
       "               0       1       2      3       4      5       6      7      8   \\\n",
       "Predicted  15.286  16.571  14.493  9.862  23.305  11.77  19.244  19.13  22.54   \n",
       "Original   15.286  16.571  14.493  9.862  23.305  11.77  19.244  19.13  22.54   \n",
       "\n",
       "               9   ...      50      51      52      53      54     55      56  \\\n",
       "Predicted  17.716  ...  12.373  10.854  13.177  18.752  11.304  8.503  14.321   \n",
       "Original   17.716  ...  12.373  10.854  13.177  18.752  11.304  8.503  14.321   \n",
       "\n",
       "               57     58      59  \n",
       "Predicted  10.058  7.055  17.981  \n",
       "Original   10.058  7.055  17.981  \n",
       "\n",
       "[2 rows x 60 columns]"
      ]
     },
     "execution_count": 108,
     "metadata": {},
     "output_type": "execute_result"
    }
   ],
   "source": [
    "conclusion"
   ]
  },
  {
   "cell_type": "code",
   "execution_count": null,
   "id": "quiet-lending",
   "metadata": {},
   "outputs": [],
   "source": []
  }
 ],
 "metadata": {
  "kernelspec": {
   "display_name": "Python 3",
   "language": "python",
   "name": "python3"
  },
  "language_info": {
   "codemirror_mode": {
    "name": "ipython",
    "version": 3
   },
   "file_extension": ".py",
   "mimetype": "text/x-python",
   "name": "python",
   "nbconvert_exporter": "python",
   "pygments_lexer": "ipython3",
   "version": "3.8.8"
  }
 },
 "nbformat": 4,
 "nbformat_minor": 5
}
